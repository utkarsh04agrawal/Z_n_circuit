{
 "cells": [
  {
   "cell_type": "code",
   "execution_count": 1,
   "metadata": {},
   "outputs": [],
   "source": [
    "%load_ext autoreload\n",
    "%matplotlib qt5\n",
    "import numpy as np\n",
    "import Z_n_circuit_utils\n",
    "from Circuits import unitary_sampler\n",
    "import Circuits.circuit_evolution as evolution\n",
    "from itertools import combinations\n",
    "import matplotlib.pyplot as pl\n",
    "import matplotlib as mpl\n",
    "import os\n",
    "import pickle\n",
    "from colour import Color\n",
    "from scipy.special import binom\n",
    "from circuit_utils import max_value, get_Z_N_entropy, Z_n_max_value\n",
    "%autoreload 2"
   ]
  },
  {
   "cell_type": "code",
   "execution_count": 2,
   "metadata": {},
   "outputs": [],
   "source": [
    "def get_prob_data(file):\n",
    "    full_data = []\n",
    "    for merged_file in os.listdir(file):\n",
    "        with open(file+'/'+merged_file,'rb') as f:\n",
    "            data = pickle.load(f)\n",
    "            full_data.extend(list(data['probs']))\n",
    "    return full_data\n",
    "\n",
    "def get_U_1_data(file):\n",
    "    full_data = []\n",
    "    for merged_file in os.listdir(file):\n",
    "        with open(file+'/'+merged_file,'rb') as f:\n",
    "            data = pickle.load(f)\n",
    "            full_data.extend(list(data['U_1_entropy']))\n",
    "    return full_data\n",
    "\n",
    "def get_Z_n_data(file):\n",
    "    full_data = []\n",
    "    for merged_file in os.listdir(file):\n",
    "        with open(file+'/'+merged_file,'rb') as f:\n",
    "            data = pickle.load(f)\n",
    "            if 'Z_n_entropy' in data: full_data.extend(list(data['Z_n_entropy']))\n",
    "    return full_data\n",
    "\n",
    "def get_std(file):\n",
    "    entropy = []\n",
    "    for merged_file in os.listdir(file):\n",
    "        with open(file+'/'+merged_file,'rb') as f:\n",
    "            data = pickle.load(f)\n",
    "            entropy.extend(data['std'])\n",
    "    return entropy\n",
    "\n",
    "def get_L(name:str):\n",
    "    L = 0\n",
    "    index2 = name.index('_T')\n",
    "    index1 = name.index('L=')\n",
    "    L = int(name[index1+2:index2])\n",
    "    return L\n",
    "\n",
    "def get_p(name:str):\n",
    "    p = 0\n",
    "    index1 = name.index('p=')\n",
    "    index2 = name.index('_g=')\n",
    "    p = float(name[index1+2:index2])\n",
    "    return p\n",
    "\n",
    "def get_g(name:str):\n",
    "    g = 0\n",
    "    index1 = name.index('g=')\n",
    "    g = float(name[index1+2:])\n",
    "    return g\n",
    "\n",
    "def get_T(name:str):\n",
    "    T = 0\n",
    "    index2 = name.index('_N')\n",
    "    index1 = name.index('T=')\n",
    "    T = int(name[index1+2:index2])\n",
    "    return T\n",
    "\n",
    "def get_N(name:str):\n",
    "    N = 0\n",
    "    index1 = name.index('N=')\n",
    "    N = int(name[index1+2:])\n",
    "    return N\n",
    "\n",
    "def colorFader(c1,c2,mix=0): #fade (linear interpolate) from color c1 (at mix=0) to c2 (mix=1)\n",
    "    c1=np.array(mpl.colors.to_rgb(c1))\n",
    "    c2=np.array(mpl.colors.to_rgb(c2))\n",
    "    return mpl.colors.to_hex((1-mix)*c1 + mix*c2)"
   ]
  },
  {
   "cell_type": "code",
   "execution_count": 3,
   "metadata": {},
   "outputs": [
    {
     "name": "stdout",
     "output_type": "stream",
     "text": [
      "L=10_T=50_N=4\n",
      "L=14_T=70_N=4\n",
      "L=12_T=60_N=4\n",
      "L=16_T=80_N=4\n",
      "L=8_T=40_N=4\n",
      "L=6_T=30_N=4\n"
     ]
    }
   ],
   "source": [
    "entropy_dic = {}\n",
    "Z_n_entropy_dic = {}\n",
    "depth_ratio = 5\n",
    "N = 4\n",
    "root_direc = 'data/phase_measurement_Z_n/U_1_fuzzy_initial/'\n",
    "root_direc = 'data/unitary_Z_n/U_1_fuzzy_initial/'\n",
    "for L_file in os.listdir(root_direc):\n",
    "    if get_N(L_file) != N:\n",
    "        continue\n",
    "\n",
    "    if L_file == '.DS_Store':\n",
    "        continue\n",
    "\n",
    "    L = get_L(L_file)\n",
    "    assert get_T(L_file) == int(depth_ratio*L), \"Wrong depth ratio\"\n",
    "    \n",
    "    print(L_file)\n",
    "\n",
    "    entropy_dic[L] = {}\n",
    "    Z_n_entropy_dic[L] = {}\n",
    "    sub_dir = root_direc + '/' + L_file\n",
    "    for p_file in os.listdir(sub_dir):\n",
    "        if 'p=' not in p_file:\n",
    "            continue\n",
    "        p = get_p(p_file)\n",
    "        g = get_g(p_file)\n",
    "\n",
    "        merged_dir = sub_dir + '/' + p_file + '/' + 'merged_data'\n",
    "        if not os.path.isdir(merged_dir):\n",
    "            continue\n",
    "        if p not in entropy_dic[L]:\n",
    "            entropy_dic[L][p] = {}\n",
    "            Z_n_entropy_dic[L][p] = {}\n",
    "\n",
    "        Z_n_data = np.array(get_Z_n_data(merged_dir))\n",
    "        # Z_n_data = np.empty(data.shape[:2])\n",
    "        # for s in range(data.shape[0]):\n",
    "        #     for t in range(data.shape[1]):\n",
    "        #         Z_n_data[s,t] = get_Z_N_entropy(data[s,t],L,N)\n",
    "        Z_n_entropy_dic[L][p][g] = Z_n_data\n",
    "\n",
    "        entropy_dic[L][p][g] = np.array(get_U_1_data(merged_dir))\n",
    "        # the shape of entropy_dic[L][p][g] is (num,T) where num is the number of samples, T is the time steps\n",
    "    \n",
    "    if len(entropy_dic[L]) == 0:\n",
    "        entropy_dic.pop(L,None)\n",
    "        Z_n_entropy_dic.pop(L,None)"
   ]
  },
  {
   "cell_type": "markdown",
   "metadata": {},
   "source": [
    "## Plot of entropy vs g for fixed p"
   ]
  },
  {
   "cell_type": "code",
   "execution_count": 4,
   "metadata": {},
   "outputs": [
    {
     "data": {
      "text/plain": [
       "dict_keys([0.01, 0.2, 0.03, 0.05, 0.0, 0.1])"
      ]
     },
     "execution_count": 4,
     "metadata": {},
     "output_type": "execute_result"
    }
   ],
   "source": [
    "entropy_dic[12][0].keys()"
   ]
  },
  {
   "cell_type": "code",
   "execution_count": 5,
   "metadata": {},
   "outputs": [
    {
     "name": "stdout",
     "output_type": "stream",
     "text": [
      "[0.0, 0.01, 0.03, 0.05, 0.1, 0.2]\n",
      "6 0.075 0.0 1000\n",
      "6 0.075 0.01 1000\n",
      "6 0.075 0.03 1000\n",
      "6 0.075 0.05 1000\n",
      "6 0.075 0.1 1000\n",
      "6 0.075 0.2 1000\n",
      "[0.0, 0.01, 0.03, 0.05, 0.1, 0.2]\n",
      "8 0.075 0.0 1000\n",
      "8 0.075 0.01 1000\n",
      "8 0.075 0.03 1000\n",
      "8 0.075 0.05 1000\n",
      "8 0.075 0.1 1000\n",
      "8 0.075 0.2 1000\n",
      "[0.0, 0.01, 0.03, 0.05, 0.1, 0.2]\n",
      "10 0.075 0.0 1000\n",
      "10 0.075 0.01 1000\n",
      "10 0.075 0.03 1000\n",
      "10 0.075 0.05 1000\n",
      "10 0.075 0.1 1000\n",
      "10 0.075 0.2 1000\n",
      "[0.0, 0.01, 0.03, 0.05, 0.1, 0.2]\n",
      "12 0.075 0.0 1000\n",
      "12 0.075 0.01 1000\n",
      "12 0.075 0.03 1000\n",
      "12 0.075 0.05 1000\n",
      "12 0.075 0.1 1000\n",
      "12 0.075 0.2 1000\n",
      "[0.0, 0.01, 0.03, 0.05, 0.1, 0.2]\n",
      "14 0.075 0.0 1000\n",
      "14 0.075 0.01 1000\n",
      "14 0.075 0.03 1000\n",
      "14 0.075 0.05 1000\n",
      "14 0.075 0.1 1000\n",
      "14 0.075 0.2 1000\n",
      "[0.0, 0.01, 0.03, 0.05, 0.1, 0.2]\n",
      "16 0.075 0.0 1000\n",
      "16 0.075 0.01 1000\n",
      "16 0.075 0.03 1000\n",
      "16 0.075 0.05 1000\n",
      "16 0.075 0.1 1000\n",
      "16 0.075 0.2 1000\n"
     ]
    },
    {
     "data": {
      "text/plain": [
       "<matplotlib.legend.Legend at 0x122da89a0>"
      ]
     },
     "execution_count": 5,
     "metadata": {},
     "output_type": "execute_result"
    }
   ],
   "source": [
    "p_fixed = [0.075]\n",
    "xdata_dic = {}\n",
    "ydata_dic = {}\n",
    "err_dic = {}\n",
    "full_data = Z_n_entropy_dic\n",
    "full_data = entropy_dic\n",
    "for L in sorted(entropy_dic):\n",
    "    xdata = []\n",
    "    errdata = []\n",
    "    ydata = []\n",
    "    maximum, _ = max_value(L//2-N//2,L,N)\n",
    "    for p in entropy_dic[L]:\n",
    "        if p not in p_fixed:\n",
    "            continue\n",
    "        print(sorted(entropy_dic[L][p]))\n",
    "        for g in sorted(entropy_dic[L][p]):\n",
    "            data = np.average(full_data[L][p][g][:,4*L:4*L+4],axis=1)\n",
    "            data = np.round(data,10)\n",
    "            data[data == -np.inf] = 0\n",
    "            data[data>100] = 0\n",
    "            data = data\n",
    "            print(L,p,g,len(data))\n",
    "            xdata.append(np.average(data))\n",
    "            errdata.append(np.std(data)/len(data)**0.5)\n",
    "            ydata.append(g)\n",
    "    xdata_dic[L] = xdata\n",
    "    ydata_dic[L] = ydata\n",
    "    err_dic[L] = errdata\n",
    "\n",
    "for L in ydata_dic:\n",
    "    pl.errorbar(ydata_dic[L],xdata_dic[L],yerr = err_dic[L],ls='-',marker='o',label=r'$L=${}'.format(L))\n",
    "pl.legend()\n"
   ]
  },
  {
   "cell_type": "code",
   "execution_count": null,
   "metadata": {},
   "outputs": [],
   "source": []
  },
  {
   "cell_type": "markdown",
   "metadata": {},
   "source": [
    "## Plot of entropy vs p for fixed g"
   ]
  },
  {
   "cell_type": "code",
   "execution_count": 7,
   "metadata": {},
   "outputs": [
    {
     "name": "stdout",
     "output_type": "stream",
     "text": [
      "[0.0, 0.01, 0.03, 0.05, 0.1, 0.2]\n",
      "6 0.0 0.01 1000\n",
      "[0.0, 0.01, 0.03, 0.05, 0.1, 0.2]\n",
      "6 0.01 0.01 1000\n",
      "[0.0, 0.01, 0.03, 0.05, 0.1, 0.2]\n",
      "6 0.03 0.01 1000\n",
      "[0.0, 0.01, 0.03, 0.05, 0.1, 0.2]\n",
      "6 0.05 0.01 1000\n",
      "[0.0, 0.01, 0.03, 0.05, 0.1, 0.2]\n",
      "6 0.075 0.01 1000\n",
      "[0.0, 0.01, 0.03, 0.05, 0.1, 0.2]\n",
      "6 0.085 0.01 1000\n",
      "[0.0, 0.01, 0.03, 0.05, 0.1, 0.2]\n",
      "6 0.1 0.01 1000\n",
      "[0.0, 0.01, 0.03, 0.05, 0.1, 0.2]\n",
      "6 0.2 0.01 1000\n",
      "[0.0, 0.01, 0.03, 0.05, 0.1, 0.2]\n",
      "8 0.0 0.01 1000\n",
      "[0.0, 0.01, 0.03, 0.05, 0.1, 0.2]\n",
      "8 0.01 0.01 1000\n",
      "[0.0, 0.01, 0.03, 0.05, 0.1, 0.2]\n",
      "8 0.03 0.01 1000\n",
      "[0.0, 0.01, 0.03, 0.05, 0.1, 0.2]\n",
      "8 0.05 0.01 1000\n",
      "[0.0, 0.01, 0.03, 0.05, 0.1, 0.2]\n",
      "8 0.075 0.01 1000\n",
      "[0.0, 0.01, 0.03, 0.05, 0.1, 0.2]\n",
      "8 0.085 0.01 1000\n",
      "[0.0, 0.01, 0.03, 0.05, 0.1, 0.2]\n",
      "8 0.1 0.01 1000\n",
      "[0.0, 0.01, 0.03, 0.05, 0.1, 0.2]\n",
      "8 0.2 0.01 1000\n",
      "[0.0, 0.01, 0.03, 0.05, 0.1, 0.2]\n",
      "10 0.0 0.01 1000\n",
      "[0.0, 0.01, 0.03, 0.05, 0.1, 0.2]\n",
      "10 0.01 0.01 1000\n",
      "[0.0, 0.01, 0.03, 0.05, 0.1, 0.2]\n",
      "10 0.03 0.01 1000\n",
      "[0.0, 0.01, 0.03, 0.05, 0.1, 0.2]\n",
      "10 0.05 0.01 1000\n",
      "[0.0, 0.01, 0.03, 0.05, 0.1, 0.2]\n",
      "10 0.075 0.01 1000\n",
      "[0.0, 0.01, 0.03, 0.05, 0.1, 0.2]\n",
      "10 0.085 0.01 1000\n",
      "[0.0, 0.01, 0.03, 0.05, 0.1, 0.2]\n",
      "10 0.1 0.01 1000\n",
      "[0.0, 0.01, 0.03, 0.05, 0.1, 0.2]\n",
      "10 0.2 0.01 1000\n",
      "[0.0, 0.01, 0.03, 0.05, 0.1, 0.2]\n",
      "12 0.0 0.01 1000\n",
      "[0.0, 0.01, 0.03, 0.05, 0.1, 0.2]\n",
      "12 0.01 0.01 1000\n",
      "[0.0, 0.01, 0.03, 0.05, 0.1, 0.2]\n",
      "12 0.03 0.01 1000\n",
      "[0.0, 0.01, 0.03, 0.05, 0.1, 0.2]\n",
      "12 0.05 0.01 1000\n",
      "[0.0, 0.01, 0.03, 0.05, 0.1, 0.2]\n",
      "12 0.075 0.01 1000\n",
      "[0.0, 0.01, 0.03, 0.05, 0.1, 0.2]\n",
      "12 0.085 0.01 1000\n",
      "[0.0, 0.01, 0.03, 0.05, 0.1, 0.2]\n",
      "12 0.1 0.01 1000\n",
      "[0.0, 0.01, 0.03, 0.05, 0.1, 0.2]\n",
      "12 0.2 0.01 1000\n",
      "[0.0, 0.01, 0.03, 0.05, 0.1, 0.2]\n",
      "14 0.0 0.01 1000\n",
      "[0.0, 0.01, 0.03, 0.05, 0.1, 0.2]\n",
      "14 0.01 0.01 1000\n",
      "[0.0, 0.01, 0.03, 0.05, 0.1, 0.2]\n",
      "14 0.03 0.01 1000\n",
      "[0.0, 0.01, 0.03, 0.05, 0.1, 0.2]\n",
      "14 0.05 0.01 1000\n",
      "[0.0, 0.01, 0.03, 0.05, 0.1, 0.2]\n",
      "14 0.075 0.01 1000\n",
      "[0.0, 0.01, 0.03, 0.05, 0.1, 0.2]\n",
      "14 0.085 0.01 1000\n",
      "[0.0, 0.01, 0.03, 0.05, 0.1, 0.2]\n",
      "14 0.1 0.01 1000\n",
      "[0.0, 0.01, 0.03, 0.05, 0.1, 0.2]\n",
      "14 0.2 0.01 1000\n",
      "[0.0, 0.01, 0.03, 0.05, 0.1, 0.2]\n",
      "16 0.0 0.01 1000\n",
      "[0.0, 0.01, 0.03, 0.05, 0.1, 0.2]\n",
      "16 0.01 0.01 1000\n",
      "[0.0, 0.01, 0.03, 0.05, 0.1, 0.2]\n",
      "16 0.03 0.01 1000\n",
      "[0.0, 0.01, 0.03, 0.05, 0.1, 0.2]\n",
      "16 0.05 0.01 1000\n",
      "[0.0, 0.01, 0.03, 0.05, 0.1, 0.2]\n",
      "16 0.075 0.01 1000\n",
      "[0.0, 0.01, 0.03, 0.05, 0.1, 0.2]\n",
      "16 0.085 0.01 1000\n",
      "[0.0, 0.01, 0.03, 0.05, 0.1, 0.2]\n",
      "16 0.1 0.01 1000\n",
      "[0.0, 0.01, 0.03, 0.05, 0.1, 0.2]\n",
      "16 0.2 0.01 1000\n"
     ]
    },
    {
     "data": {
      "text/plain": [
       "<matplotlib.legend.Legend at 0x16a82ba90>"
      ]
     },
     "execution_count": 7,
     "metadata": {},
     "output_type": "execute_result"
    }
   ],
   "source": [
    "g_fixed = [0.01]\n",
    "xdata_dic = {}\n",
    "ydata_dic = {}\n",
    "err_dic = {}\n",
    "full_data = Z_n_entropy_dic\n",
    "# full_data = entropy_dic\n",
    "for L in sorted(entropy_dic):\n",
    "    xdata = {}\n",
    "    errdata = {}\n",
    "    ydata = {}\n",
    "    maximum, _ = max_value(L//2-N//2,L,N)\n",
    "    maximum = Z_n_max_value([(L//2 - N//2)%N, (L//2)%N],L,N)\n",
    "    for p in sorted(entropy_dic[L]):\n",
    "        print(sorted(entropy_dic[L][p]))\n",
    "        for g in sorted(entropy_dic[L][p]):\n",
    "            if g not in g_fixed:\n",
    "                continue\n",
    "            \n",
    "            if g not in xdata:\n",
    "                xdata[g] = []\n",
    "                ydata[g] = []\n",
    "                errdata[g] = []\n",
    "\n",
    "            data = np.average(full_data[L][p][g][:,3*L-L//2:3*L],axis=1)\n",
    "            data = np.round(data,10)\n",
    "            data[data == -np.inf] = 0\n",
    "            data[data>100] = 0\n",
    "            data = data/np.log(2)\n",
    "\n",
    "            print(L,p,g,len(data))\n",
    "\n",
    "            ydata[g].append(np.average(data))\n",
    "            errdata[g].append(np.std(data)/len(data)**0.5)\n",
    "            xdata[g].append(p)\n",
    "\n",
    "    xdata_dic[L] = xdata\n",
    "    ydata_dic[L] = ydata\n",
    "    err_dic[L] = errdata\n",
    "\n",
    "for L in ydata_dic:\n",
    "    pl.errorbar(xdata_dic[L][g_fixed[0]],ydata_dic[L][g_fixed[0]],yerr = err_dic[L][g_fixed[0]],ls='-',marker='o',label=r'$L=${}'.format(L))\n",
    "pl.legend()\n",
    "# pl.yscale('log')"
   ]
  },
  {
   "cell_type": "markdown",
   "metadata": {},
   "source": [
    "## Plot vs T for fixed p and g"
   ]
  },
  {
   "cell_type": "code",
   "execution_count": 13,
   "metadata": {},
   "outputs": [
    {
     "name": "stdout",
     "output_type": "stream",
     "text": [
      "[0.0, 0.01, 0.03, 0.05, 0.1, 0.2]\n",
      "6 0.03 0.0 1000\n",
      "[0.0, 0.01, 0.03, 0.05, 0.1, 0.2]\n",
      "8 0.03 0.0 1000\n",
      "[0.0, 0.01, 0.03, 0.05, 0.1, 0.2]\n",
      "10 0.03 0.0 1000\n",
      "[0.0, 0.01, 0.03, 0.05, 0.1, 0.2]\n",
      "12 0.03 0.0 1000\n",
      "[0.0, 0.01, 0.03, 0.05, 0.1, 0.2]\n",
      "14 0.03 0.0 1000\n",
      "[0.0, 0.01, 0.03, 0.05, 0.1, 0.2]\n",
      "16 0.03 0.0 1000\n"
     ]
    }
   ],
   "source": [
    "p_fixed = [0.03]\n",
    "g_fixed = [0.0]\n",
    "data_dic = Z_n_entropy_dic\n",
    "# data_dic = entropy_dic\n",
    "xdata_dic = {}\n",
    "ydata_dic = {}\n",
    "err_dic = {}\n",
    "alpha_g = (np.linspace(1,0.5,len(g_fixed)))\n",
    "L_colors = [colorFader('red','green',mix=x) for x in np.linspace(0.2,1,len(entropy_dic))]\n",
    "for L in sorted(entropy_dic)[:]:\n",
    "    xdata = {}\n",
    "    errdata = {}\n",
    "    ydata = {}\n",
    "    maximum, _ = max_value(L//2-N//2,L,N)\n",
    "    for p in sorted(entropy_dic[L]):\n",
    "        if p not in p_fixed:\n",
    "            continue\n",
    "        print(sorted(entropy_dic[L][p]))\n",
    "        for g in sorted(entropy_dic[L][p]):\n",
    "            if g not in g_fixed:\n",
    "                continue\n",
    "            \n",
    "            if (p,g) not in xdata:\n",
    "                xdata[(p,g)] = []\n",
    "                ydata[(p,g)] = []\n",
    "                errdata[(p,g)] = []\n",
    "\n",
    "            data = np.array(data_dic[L][p][g][:,:])\n",
    "            data = np.round(data,10)\n",
    "            data[data == -np.inf] = 0\n",
    "            data[data>100] = 0\n",
    "            data = data\n",
    "\n",
    "            print(L,p,g,len(data))\n",
    "\n",
    "            ydata[(p,g)] = (np.average(data,axis=0))\n",
    "            errdata[(p,g)] = (np.std(data,axis=0)/len(data)**0.5)\n",
    "            xdata[(p,g)] = (np.arange(0,5*L+1,1)/L)\n",
    "\n",
    "    xdata_dic[L] = xdata\n",
    "    ydata_dic[L] = ydata\n",
    "    err_dic[L] = errdata\n",
    "\n",
    "\n",
    "for i,g in enumerate(g_fixed):\n",
    "    for j,L in enumerate(ydata_dic):\n",
    "        (p,g) = (p_fixed[0],g)\n",
    "        pl.errorbar(xdata_dic[L][(p,g)],ydata_dic[L][(p,g)],yerr = err_dic[L][(p,g)],ls='-',marker='o',label=r'$L=${}'.format(L),color=L_colors[j],alpha=alpha_g[i])\n",
    "\n",
    "pl.legend(ncol=2)\n",
    "pl.yscale('log')\n",
    "pl.grid(which='major')"
   ]
  },
  {
   "cell_type": "code",
   "execution_count": 176,
   "metadata": {},
   "outputs": [
    {
     "data": {
      "text/plain": [
       "dict_keys([])"
      ]
     },
     "execution_count": 176,
     "metadata": {},
     "output_type": "execute_result"
    }
   ],
   "source": [
    "entropy_dic.keys()"
   ]
  },
  {
   "cell_type": "code",
   "execution_count": 249,
   "metadata": {},
   "outputs": [
    {
     "name": "stdout",
     "output_type": "stream",
     "text": [
      "p=dict_keys([0.075, 0.01, 0.05, 0.085, 0.2, 0.03, 0.0, 0.1]),\n",
      "g=dict_keys([0.01, 0.2, 0.03, 0.05, 0.0, 0.1])\n"
     ]
    }
   ],
   "source": [
    "print('p={},\\ng={}'.format(entropy_dic[6].keys(),entropy_dic[6][0].keys()))"
   ]
  },
  {
   "cell_type": "code",
   "execution_count": null,
   "metadata": {},
   "outputs": [],
   "source": []
  }
 ],
 "metadata": {
  "kernelspec": {
   "display_name": "Python 3.9.13 ('base')",
   "language": "python",
   "name": "python3"
  },
  "language_info": {
   "codemirror_mode": {
    "name": "ipython",
    "version": 3
   },
   "file_extension": ".py",
   "mimetype": "text/x-python",
   "name": "python",
   "nbconvert_exporter": "python",
   "pygments_lexer": "ipython3",
   "version": "3.9.13"
  },
  "orig_nbformat": 4,
  "vscode": {
   "interpreter": {
    "hash": "46d4d6e35a705a453addec98352089b1c875d6193677971858623155cb10eb88"
   }
  }
 },
 "nbformat": 4,
 "nbformat_minor": 2
}
