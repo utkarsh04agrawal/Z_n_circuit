{
 "cells": [
  {
   "cell_type": "code",
   "execution_count": 70,
   "metadata": {},
   "outputs": [
    {
     "name": "stdout",
     "output_type": "stream",
     "text": [
      "The autoreload extension is already loaded. To reload it, use:\n",
      "  %reload_ext autoreload\n"
     ]
    }
   ],
   "source": [
    "%load_ext autoreload\n",
    "\n",
    "import numpy as np\n",
    "import Z_n_circuit_utils\n",
    "from Circuits import unitary_sampler\n",
    "import Circuits.circuit_evolution as evolution\n",
    "from itertools import combinations\n",
    "import matplotlib.pyplot as pl\n",
    "import matplotlib as mpl\n",
    "import time\n",
    "import pickle\n",
    "from colour import Color\n",
    "from scipy.special import binom\n",
    "from circuit_utils import *\n",
    "import Circuits\n",
    "%autoreload 2"
   ]
  },
  {
   "cell_type": "code",
   "execution_count": 71,
   "metadata": {},
   "outputs": [],
   "source": [
    "%matplotlib qt5"
   ]
  },
  {
   "cell_type": "code",
   "execution_count": 72,
   "metadata": {},
   "outputs": [],
   "source": [
    "U = Z_n_circuit_utils.z_n_field(2,1)"
   ]
  },
  {
   "cell_type": "code",
   "execution_count": 90,
   "metadata": {},
   "outputs": [
    {
     "name": "stdout",
     "output_type": "stream",
     "text": [
      "(200, 33)\n",
      "L=8,time=4.311682224273682\n",
      "(200, 41)\n",
      "L=10,time=7.59628701210022\n",
      "(200, 49)\n",
      "L=12,time=28.979996919631958\n"
     ]
    }
   ],
   "source": [
    "L_list = [8,10,12]\n",
    "N = 5\n",
    "Kraus_operators = Z_n_circuit_utils.z_n_measurement(N)\n",
    "g_N = 0.3\n",
    "p_meas = 0\n",
    "\n",
    "entropy= {}\n",
    "error = {}\n",
    "for L in L_list:\n",
    "    T = 4*L\n",
    "    entropy_data = []\n",
    "    start = time.time()\n",
    "    for samps in range(200):\n",
    "        rng = np.random.default_rng(seed=samps)\n",
    "        # state,_ = Circuits.circuit_evolution.generalized_measurement(state, Kraus_operators, list(range(0,N)),rng)\n",
    "        # state = get_sharp_initial_state(L,L//2 - (N+1)//2)\n",
    "        state = np.zeros((2,)*L)\n",
    "        initial_charge = [0]*L\n",
    "        initial_charge[:L//2 - (N+1)//2] = [1]*(L//2 - (N+1)//2)\n",
    "        state[tuple(initial_charge)] = 1\n",
    "\n",
    "        for _ in range(2*L):\n",
    "            state = U_1_layer(state,t,L,rng=rng)\n",
    "\n",
    "        indices_dic = get_indices_dic(L)\n",
    "        prob_list = [[get_probability(state,L,q,indices=indices_dic[q]) for q in indices_dic]]\n",
    "        \n",
    "        for t in range(T):\n",
    "            state = U_1_layer(state,t,L,rng=rng)\n",
    "            state,_ = U_1_measurement(state,L,p_meas,rng=rng)\n",
    "            state = Z_n_layer(state,L,N,g_N)\n",
    "            prob_list.append([get_probability(state,L,q,indices=indices_dic[q]) for q in indices_dic])\n",
    "\n",
    "        entropy_data.append([get_entropy(p_list) for p_list in prob_list])\n",
    "    print(np.array(entropy_data).shape)\n",
    "    print(\"L={},time={}\".format(L,time.time()-start))\n",
    "    entropy[L] = np.average(np.array(entropy_data),axis=0)\n",
    "    error[L] = np.std(np.array(entropy_data),axis=0)/len(entropy_data)**0.5\n"
   ]
  },
  {
   "cell_type": "code",
   "execution_count": 93,
   "metadata": {},
   "outputs": [
    {
     "name": "stdout",
     "output_type": "stream",
     "text": [
      "(33,)\n",
      "0.5297061990576545\n",
      "(41,)\n",
      "0.5859526183035508\n",
      "(49,)\n",
      "0.6172417697303416\n"
     ]
    },
    {
     "data": {
      "text/plain": [
       "<matplotlib.legend.Legend at 0x165e8c520>"
      ]
     },
     "execution_count": 93,
     "metadata": {},
     "output_type": "execute_result"
    }
   ],
   "source": [
    "for L in L_list:\n",
    "    xdata = np.arange(0,4*L+1,1)/L\n",
    "    ydata = entropy[L]\n",
    "    print(ydata.shape)\n",
    "    err = error[L]\n",
    "    maximum,_ = max_value(L//2-(N+1)//2,L,N=5)\n",
    "    print(maximum)\n",
    "    ydata = ydata/maximum\n",
    "    err = err/maximum\n",
    "    pl.errorbar(xdata,ydata,yerr=err,ls='-',marker='o',label=r'$L=$'+str(L))\n",
    "pl.legend()"
   ]
  },
  {
   "cell_type": "code",
   "execution_count": 95,
   "metadata": {},
   "outputs": [
    {
     "data": {
      "text/plain": [
       "[array([0, 1, 2, 3]), array([4, 5, 6, 7]), array([ 8,  9, 10, 11])]"
      ]
     },
     "execution_count": 95,
     "metadata": {},
     "output_type": "execute_result"
    },
    {
     "name": "stderr",
     "output_type": "stream",
     "text": [
      "qt.qpa.backingstore: Back buffer dpr of 1 doesn't match <_NSViewBackingLayer: 0x2a996b810> contents scale of 2 - updating layer to match.\n",
      "qt.qpa.backingstore: Back buffer dpr of 1 doesn't match <_NSViewBackingLayer: 0x2a996b810> contents scale of 2 - updating layer to match.\n",
      "qt.qpa.backingstore: Back buffer dpr of 1 doesn't match <_NSViewBackingLayer: 0x2a996b810> contents scale of 2 - updating layer to match.\n",
      "qt.qpa.backingstore: Back buffer dpr of 2 doesn't match <_NSViewBackingLayer: 0x2a996b810> contents scale of 1 - updating layer to match.\n",
      "qt.qpa.backingstore: Back buffer dpr of 1 doesn't match <_NSViewBackingLayer: 0x2a996b810> contents scale of 2 - updating layer to match.\n"
     ]
    }
   ],
   "source": [
    "list(np.arange(0,12,1).reshape((3,4)))"
   ]
  },
  {
   "cell_type": "code",
   "execution_count": 557,
   "metadata": {},
   "outputs": [],
   "source": [
    "def save_data(N,p_meas):\n",
    "    samps = 400\n",
    "\n",
    "    final_data = {}\n",
    "    filename = 'data/p_meas='+str(p_meas)+'_N='+str(N)\n",
    "    for g_N in [0.05,0.1,0.2,0.3,0.4,0.5,0.6,0.7]:\n",
    "        final_data[g_N] = {}\n",
    "        entropy_dic = {}\n",
    "        error_dic = {}\n",
    "        full_data_dic = {}\n",
    "        for L in [6,8,10,12]:\n",
    "            start = time.time()\n",
    "            T = 3*L\n",
    "            entropy_data = []\n",
    "            for seed_M in range(1,samps+1):\n",
    "                prob_list,_ = get_data(L,N,T,p_meas,seed_U=1,seed_M=seed_M,seed_N=10*seed_M,g_N=g_N)\n",
    "                entropy_data.append([get_entropy(p_list) for p_list in prob_list])\n",
    "            entropy_data = np.array(entropy_data)\n",
    "            full_data_dic[L] = entropy_data\n",
    "            assert entropy_data.shape == (samps,T+1)\n",
    "            entropy_dic[L] = np.average(entropy_data,axis=0)\n",
    "            error_dic[L] = np.std(entropy_data,axis=0)/(samps-1)**0.5\n",
    "            print(\"g_N={},L={},time={}\".format(g_N,L,time.time() - start))\n",
    "        final_data[g_N]['entropy'] = entropy_dic\n",
    "        final_data[g_N]['error'] = error_dic\n",
    "        final_data[g_N]['full_data'] = full_data_dic\n",
    "        with open(filename,'wb') as f:\n",
    "            pickle.dump(final_data,f)\n",
    "\n"
   ]
  },
  {
   "cell_type": "code",
   "execution_count": 631,
   "metadata": {},
   "outputs": [],
   "source": [
    "def max_value(initial_charge,L,N):\n",
    "    charges = [initial_charge]\n",
    "    temp = initial_charge + N\n",
    "    while temp < L+1:\n",
    "        charges.append(temp)\n",
    "        temp = temp + N\n",
    "    temp = initial_charge - N\n",
    "    while temp >= 0:\n",
    "        charges.append(temp)\n",
    "        temp = temp - N\n",
    "    p_q = []\n",
    "    for q in charges:\n",
    "        p_q.append(binom(L,q))\n",
    "    p_q = np.array(p_q)\n",
    "    p_q = p_q / np.sum(p_q)\n",
    "     \n",
    "\n",
    "    return get_entropy(p_q), sorted(charges)"
   ]
  },
  {
   "cell_type": "code",
   "execution_count": 20,
   "metadata": {},
   "outputs": [],
   "source": [
    "import pandas as pd"
   ]
  },
  {
   "cell_type": "code",
   "execution_count": 58,
   "metadata": {},
   "outputs": [
    {
     "data": {
      "text/html": [
       "<div>\n",
       "<style scoped>\n",
       "    .dataframe tbody tr th:only-of-type {\n",
       "        vertical-align: middle;\n",
       "    }\n",
       "\n",
       "    .dataframe tbody tr th {\n",
       "        vertical-align: top;\n",
       "    }\n",
       "\n",
       "    .dataframe thead th {\n",
       "        text-align: right;\n",
       "    }\n",
       "</style>\n",
       "<table border=\"1\" class=\"dataframe\">\n",
       "  <thead>\n",
       "    <tr style=\"text-align: right;\">\n",
       "      <th></th>\n",
       "      <th>1</th>\n",
       "      <th>2</th>\n",
       "      <th>3</th>\n",
       "    </tr>\n",
       "  </thead>\n",
       "  <tbody>\n",
       "  </tbody>\n",
       "</table>\n",
       "</div>"
      ],
      "text/plain": [
       "Empty DataFrame\n",
       "Columns: [1, 2, 3]\n",
       "Index: []"
      ]
     },
     "execution_count": 58,
     "metadata": {},
     "output_type": "execute_result"
    }
   ],
   "source": [
    "aa = {1:[],2:[],3:[]}\n",
    "df = pd.DataFrame(aa)\n",
    "df"
   ]
  },
  {
   "cell_type": "code",
   "execution_count": 59,
   "metadata": {},
   "outputs": [],
   "source": [
    "df = pd.concat([df,pd.DataFrame({1:[10],2:[20],3:[None]})],ignore_index=True)\n",
    "df = pd.concat([df,pd.DataFrame({1:[2,3],2:[3,3],3:[None,3]})],ignore_index=True)"
   ]
  },
  {
   "cell_type": "code",
   "execution_count": 60,
   "metadata": {},
   "outputs": [
    {
     "data": {
      "text/html": [
       "<div>\n",
       "<style scoped>\n",
       "    .dataframe tbody tr th:only-of-type {\n",
       "        vertical-align: middle;\n",
       "    }\n",
       "\n",
       "    .dataframe tbody tr th {\n",
       "        vertical-align: top;\n",
       "    }\n",
       "\n",
       "    .dataframe thead th {\n",
       "        text-align: right;\n",
       "    }\n",
       "</style>\n",
       "<table border=\"1\" class=\"dataframe\">\n",
       "  <thead>\n",
       "    <tr style=\"text-align: right;\">\n",
       "      <th></th>\n",
       "      <th>1</th>\n",
       "      <th>2</th>\n",
       "      <th>3</th>\n",
       "    </tr>\n",
       "  </thead>\n",
       "  <tbody>\n",
       "    <tr>\n",
       "      <th>0</th>\n",
       "      <td>10.0</td>\n",
       "      <td>20.0</td>\n",
       "      <td>NaN</td>\n",
       "    </tr>\n",
       "    <tr>\n",
       "      <th>1</th>\n",
       "      <td>2.0</td>\n",
       "      <td>3.0</td>\n",
       "      <td>NaN</td>\n",
       "    </tr>\n",
       "    <tr>\n",
       "      <th>2</th>\n",
       "      <td>3.0</td>\n",
       "      <td>3.0</td>\n",
       "      <td>3.0</td>\n",
       "    </tr>\n",
       "  </tbody>\n",
       "</table>\n",
       "</div>"
      ],
      "text/plain": [
       "      1     2    3\n",
       "0  10.0  20.0  NaN\n",
       "1   2.0   3.0  NaN\n",
       "2   3.0   3.0  3.0"
      ]
     },
     "execution_count": 60,
     "metadata": {},
     "output_type": "execute_result"
    }
   ],
   "source": [
    "df"
   ]
  },
  {
   "cell_type": "code",
   "execution_count": 63,
   "metadata": {},
   "outputs": [
    {
     "data": {
      "text/plain": [
       "6"
      ]
     },
     "execution_count": 63,
     "metadata": {},
     "output_type": "execute_result"
    }
   ],
   "source": [
    "df.loc[len(df)] = [0,-9,8]\n",
    "len(df)"
   ]
  },
  {
   "cell_type": "code",
   "execution_count": 69,
   "metadata": {},
   "outputs": [
    {
     "data": {
      "text/plain": [
       "(3, 2, 3)"
      ]
     },
     "execution_count": 69,
     "metadata": {},
     "output_type": "execute_result"
    }
   ],
   "source": [
    "np.array([[[1,2,4],[3,4,4]],[[5,6,4],[7,8,4]],[[5,6,4],[7,8,40]]]).shape"
   ]
  },
  {
   "cell_type": "code",
   "execution_count": 676,
   "metadata": {},
   "outputs": [
    {
     "name": "stdout",
     "output_type": "stream",
     "text": [
      "g_N=0.05,L=6,time=2.688966989517212\n",
      "g_N=0.05,L=8,time=4.977934837341309\n",
      "g_N=0.05,L=10,time=9.195031881332397\n",
      "g_N=0.05,L=12,time=21.0978102684021\n",
      "g_N=0.1,L=6,time=2.701953172683716\n",
      "g_N=0.1,L=8,time=5.047152280807495\n",
      "g_N=0.1,L=10,time=9.451730012893677\n",
      "g_N=0.1,L=12,time=21.638311862945557\n",
      "g_N=0.2,L=6,time=2.851486921310425\n",
      "g_N=0.2,L=8,time=5.306596040725708\n",
      "g_N=0.2,L=10,time=9.928119897842407\n",
      "g_N=0.2,L=12,time=22.75848889350891\n",
      "g_N=0.3,L=6,time=3.0537989139556885\n",
      "g_N=0.3,L=8,time=5.632601976394653\n",
      "g_N=0.3,L=10,time=10.642473936080933\n",
      "g_N=0.3,L=12,time=23.98956322669983\n",
      "g_N=0.4,L=6,time=3.1025068759918213\n",
      "g_N=0.4,L=8,time=5.934096813201904\n",
      "g_N=0.4,L=10,time=10.983277082443237\n",
      "g_N=0.4,L=12,time=25.193342924118042\n",
      "g_N=0.5,L=6,time=3.2390100955963135\n",
      "g_N=0.5,L=8,time=6.0277650356292725\n",
      "g_N=0.5,L=10,time=11.335202932357788\n",
      "g_N=0.5,L=12,time=25.994598865509033\n",
      "g_N=0.6,L=6,time=3.319499969482422\n",
      "g_N=0.6,L=8,time=6.229722023010254\n",
      "g_N=0.6,L=10,time=11.805912733078003\n",
      "g_N=0.6,L=12,time=27.17857599258423\n",
      "g_N=0.7,L=6,time=3.412891149520874\n",
      "g_N=0.7,L=8,time=6.451407194137573\n",
      "g_N=0.7,L=10,time=12.227203130722046\n",
      "g_N=0.7,L=12,time=28.363399267196655\n"
     ]
    }
   ],
   "source": [
    "save_data(N=2,p_meas=0.7)\n"
   ]
  },
  {
   "cell_type": "markdown",
   "metadata": {},
   "source": [
    "### Plot vs time for fixed g"
   ]
  },
  {
   "cell_type": "code",
   "execution_count": 543,
   "metadata": {},
   "outputs": [],
   "source": [
    "def colorFader(c1,c2,mix=0): #fade (linear interpolate) from color c1 (at mix=0) to c2 (mix=1)\n",
    "    c1=np.array(mpl.colors.to_rgb(c1))\n",
    "    c2=np.array(mpl.colors.to_rgb(c2))\n",
    "    return mpl.colors.to_hex((1-mix)*c1 + mix*c2)"
   ]
  },
  {
   "cell_type": "code",
   "execution_count": 679,
   "metadata": {},
   "outputs": [],
   "source": [
    "g_N_list = [0.1,0.2,0.7]\n",
    "N = 2\n",
    "window = 1\n",
    "p_meas = 0.7\n",
    "pl.figure(1,figsize=(8,7))\n",
    "g_colors = [colorFader('red','green',mix=x) for x in np.linspace(0,1,len(g_N_list))]\n",
    "filename = 'data/p_meas='+str(p_meas)+'_N='+str(N)\n",
    "with open(filename,'rb') as f:\n",
    "    final_data = pickle.load(f)\n",
    "\n",
    "for i,g_N in enumerate(g_N_list):\n",
    "    entropy_dic = final_data[g_N]['entropy']\n",
    "    error_dic = final_data[g_N]['error']\n",
    "    Ldata = np.array(list(sorted(entropy_dic.keys())))\n",
    "    alpha_L = np.linspace(0.2,1,len(Ldata))\n",
    "    for j,L in enumerate(Ldata):\n",
    "        xdata = np.arange(0,3*L+1,1)/L\n",
    "        maximum,_ = max_value(L//2-N//2,L,N)\n",
    "        ydata = entropy_dic[L].copy()/maximum\n",
    "        err_data = error_dic[L].copy()/maximum\n",
    "        ydata,err_data = rolling_average(ydata,err_data,window)\n",
    "        # ydata = ydata/ydata[0]\n",
    "        # err_data = err_data/ydata[0]\n",
    "        pl.errorbar(xdata,ydata,yerr=err_data,ls='-',color=g_colors[i],alpha=alpha_L[j],marker='o',label='L={},g={}'.format(L,g_N))\n",
    "pl.ylabel(r'$\\frac{\\rm{Entropy}}{\\rm{Maximum Value}}$',fontsize =20)\n",
    "pl.xlabel(r'$t/L$')\n",
    "pl.legend(ncol=len(g_N_list))\n",
    "pl.tight_layout()"
   ]
  },
  {
   "cell_type": "code",
   "execution_count": 802,
   "metadata": {},
   "outputs": [],
   "source": [
    "N = 4\n",
    "p_meas = 0.2\n",
    "filename = 'data/p_meas='+str(p_meas)+'_N='+str(N)\n",
    "with open(filename,'rb') as f:\n",
    "    final_data = pickle.load(f)\n",
    "window = 1\n",
    "\n",
    "pl.figure(2,figsize=(8,7))\n",
    "g_N_list = list(sorted(final_data.keys()))\n",
    "xdata = {}\n",
    "ydata = {}\n",
    "errdata = {}\n",
    "for g_N in g_N_list:\n",
    "    entropy_dic = final_data[g_N]['entropy']\n",
    "    error_dic = final_data[g_N]['error']\n",
    "    Ldata = np.array(list(sorted(entropy_dic.keys())))\n",
    "    for L in Ldata:\n",
    "        if L not in ydata:\n",
    "            ydata[L] = []\n",
    "            errdata[L] = []\n",
    "        maximum,_ = max_value(L//2-N//2,L,N)\n",
    "        ydata[L].append(np.average(entropy_dic[L][-6:]).copy()/maximum)\n",
    "        errdata[L].append(np.average(error_dic[L][-6:].copy())/maximum)\n",
    "\n",
    "for L in ydata:\n",
    "    pl.errorbar(g_N_list,ydata[L],yerr=errdata[L],ls='-',marker='o',label='L={}'.format(L,g_N))\n",
    "pl.ylabel(r'$\\frac{\\rm{Entropy}}{\\rm{Maximum Value}}$',fontsize =20)\n",
    "pl.xlabel(r'$g$')\n",
    "pl.legend(ncol=len(g_N_list))\n",
    "pl.tight_layout()\n"
   ]
  },
  {
   "cell_type": "code",
   "execution_count": 99,
   "metadata": {},
   "outputs": [
    {
     "data": {
      "text/plain": [
       "[0.6086458979772175,\n",
       " 0.6086458979772174,\n",
       " 0.6086458979772174,\n",
       " 0.6086458979772171,\n",
       " 0.6086458979772174,\n",
       " 0.6086458979772177,\n",
       " 0.6086458979772177,\n",
       " 0.6086458979772178,\n",
       " 0.6086458979772178,\n",
       " 0.6086458979772177,\n",
       " 2.220446049250313e-16,\n",
       " 1.1102230246251564e-16,\n",
       " -2.220446049250313e-16,\n",
       " -0.0,\n",
       " -0.0,\n",
       " 1.1102230246251564e-16,\n",
       " -0.0,\n",
       " -2.220446049250313e-16,\n",
       " -0.0,\n",
       " 7.771561172376093e-16,\n",
       " 4.440892098500625e-16,\n",
       " 1.110223024625156e-15,\n",
       " 1.332267629550187e-15,\n",
       " -0.0,\n",
       " -0.0,\n",
       " 6.661338147750936e-16,\n",
       " 8.881784197001248e-16,\n",
       " -0.0,\n",
       " -2.220446049250313e-16,\n",
       " -0.0,\n",
       " -2.220446049250313e-16,\n",
       " -0.0,\n",
       " -0.0,\n",
       " 2.220446049250313e-16,\n",
       " 4.440892098500625e-16,\n",
       " -2.220446049250313e-16,\n",
       " -6.661338147750941e-16,\n",
       " -8.881784197001256e-16,\n",
       " -8.881784197001256e-16,\n",
       " -0.0,\n",
       " -0.0,\n",
       " 4.440892098500625e-16,\n",
       " 5.551115123125782e-16,\n",
       " 5.551115123125782e-16,\n",
       " 6.661338147750936e-16,\n",
       " 1.110223024625156e-15,\n",
       " 2.220446049250313e-16,\n",
       " -2.220446049250313e-16,\n",
       " -4.440892098500627e-16,\n",
       " -0.0,\n",
       " -0.0,\n",
       " -2.220446049250313e-16,\n",
       " 1.1102230246251564e-16,\n",
       " -0.0,\n",
       " -0.0,\n",
       " -0.0,\n",
       " 4.440892098500625e-16,\n",
       " 7.771561172376093e-16,\n",
       " 1.332267629550187e-15,\n",
       " 1.2212453270876714e-15,\n",
       " 1.332267629550187e-15,\n",
       " 1.6653345369377334e-15,\n",
       " -0.0,\n",
       " 2.220446049250313e-16,\n",
       " -0.0,\n",
       " 6.661338147750936e-16,\n",
       " 1.7763568394002489e-15,\n",
       " -0.0,\n",
       " -0.0,\n",
       " -4.440892098500627e-16,\n",
       " -6.661338147750941e-16,\n",
       " -4.440892098500627e-16,\n",
       " -4.440892098500627e-16,\n",
       " 6.661338147750936e-16,\n",
       " -4.440892098500627e-16,\n",
       " -4.440892098500627e-16,\n",
       " 1.1102230246251564e-16,\n",
       " 4.440892098500625e-16,\n",
       " 6.661338147750936e-16,\n",
       " 8.881784197001248e-16,\n",
       " 2.220446049250313e-16,\n",
       " -0.0,\n",
       " -4.440892098500627e-16,\n",
       " -0.0,\n",
       " -4.440892098500627e-16,\n",
       " -2.220446049250313e-16,\n",
       " -6.661338147750941e-16,\n",
       " -0.0,\n",
       " 4.440892098500625e-16,\n",
       " -0.0,\n",
       " 3.330669073875469e-16,\n",
       " -4.440892098500627e-16,\n",
       " -0.0,\n",
       " -0.0,\n",
       " 2.220446049250313e-16,\n",
       " 3.330669073875469e-16,\n",
       " 4.440892098500625e-16,\n",
       " 4.440892098500625e-16,\n",
       " -0.0,\n",
       " 2.220446049250313e-16,\n",
       " 1.1102230246251564e-16]"
      ]
     },
     "execution_count": 99,
     "metadata": {},
     "output_type": "execute_result"
    }
   ],
   "source": [
    "[get_entropy(p_list) for p_list in a]"
   ]
  },
  {
   "cell_type": "code",
   "execution_count": 789,
   "metadata": {},
   "outputs": [],
   "source": [
    "from Circuits import unitary_sampler\n",
    "import Circuits.circuit_evolution as evolution\n",
    "L = 14\n",
    "T = 2*L\n",
    "N = 5\n",
    "for _ in range(400):\n",
    "    state = np.ones((2,)*L)\n",
    "    state = state/np.sum(np.abs(state)**2)**0.5 # normalize the state\n",
    "    seed = np.random.randint(1,1000000000)\n",
    "    rng = np.random.default_rng(seed)\n",
    "    for t in range(T):\n",
    "        U_list = [unitary_sampler.U_1_sym_gate_sampler(rng) for _ in range(L//2)]\n",
    "        if t%2 == 0:\n",
    "            state = evolution.evenlayer(state,U_list,L)\n",
    "        else:\n",
    "            state = evolution.oddlayer(state,U_list,L,BC='PBC')\n",
    "        state,_ = evolution.measurement_layer(state,np.arange(0,7,1),np.random.default_rng(1))\n",
    "        state = circuit_utils.Z_n_layer(state,L,N,g_N=0.5,rng=np.random.default_rng(1))"
   ]
  },
  {
   "cell_type": "code",
   "execution_count": 801,
   "metadata": {},
   "outputs": [
    {
     "data": {
      "text/plain": [
       "[array([0, 1, 2, 3, 4, 5, 6, 7]), array([ 8,  9, 10, 11, 12, 13, 14, 15])]"
      ]
     },
     "execution_count": 801,
     "metadata": {},
     "output_type": "execute_result"
    }
   ],
   "source": [
    "aa = np.empty((1,2))\n",
    "xx = np.arange(0,16,1).reshape((2,8))\n",
    "zz = np.zeros((4,2))\n",
    "list(xx)"
   ]
  },
  {
   "cell_type": "code",
   "execution_count": 100,
   "metadata": {},
   "outputs": [],
   "source": [
    "def aa(i):\n",
    "    return i+1\n",
    "def aa2(i):\n",
    "    return i+2\n"
   ]
  },
  {
   "cell_type": "code",
   "execution_count": 103,
   "metadata": {},
   "outputs": [
    {
     "data": {
      "text/plain": [
       "6"
      ]
     },
     "execution_count": 103,
     "metadata": {},
     "output_type": "execute_result"
    },
    {
     "name": "stderr",
     "output_type": "stream",
     "text": [
      "qt.qpa.backingstore: Back buffer dpr of 1 doesn't match <_NSViewBackingLayer: 0x2a996b810> contents scale of 2 - updating layer to match.\n",
      "qt.qpa.backingstore: Back buffer dpr of 1 doesn't match <_NSViewBackingLayer: 0x2a996b810> contents scale of 2 - updating layer to match.\n",
      "qt.qpa.backingstore: Back buffer dpr of 1 doesn't match <_NSViewBackingLayer: 0x2a996b810> contents scale of 2 - updating layer to match.\n",
      "qt.qpa.backingstore: Back buffer dpr of 2 doesn't match <_NSViewBackingLayer: 0x2a996b810> contents scale of 1 - updating layer to match.\n",
      "qt.qpa.backingstore: Back buffer dpr of 1 doesn't match <_NSViewBackingLayer: 0x2a996b810> contents scale of 2 - updating layer to match.\n",
      "qt.qpa.backingstore: Back buffer dpr of 1 doesn't match <_NSViewBackingLayer: 0x2a996b810> contents scale of 2 - updating layer to match.\n",
      "qt.qpa.backingstore: Back buffer dpr of 2 doesn't match <_NSViewBackingLayer: 0x2a996b810> contents scale of 1 - updating layer to match.\n",
      "qt.qpa.backingstore: Back buffer dpr of 1 doesn't match <_NSViewBackingLayer: 0x2a996b810> contents scale of 2 - updating layer to match.\n",
      "qt.qpa.backingstore: Back buffer dpr of 2 doesn't match <_NSViewBackingLayer: 0x2a996b810> contents scale of 1 - updating layer to match.\n",
      "qt.qpa.backingstore: Back buffer dpr of 1 doesn't match <_NSViewBackingLayer: 0x2a996b810> contents scale of 2 - updating layer to match.\n"
     ]
    }
   ],
   "source": [
    "temp = aa2\n",
    "temp(4)"
   ]
  },
  {
   "cell_type": "code",
   "execution_count": null,
   "metadata": {},
   "outputs": [],
   "source": []
  }
 ],
 "metadata": {
  "kernelspec": {
   "display_name": "Python 3.9.13 ('base')",
   "language": "python",
   "name": "python3"
  },
  "language_info": {
   "codemirror_mode": {
    "name": "ipython",
    "version": 3
   },
   "file_extension": ".py",
   "mimetype": "text/x-python",
   "name": "python",
   "nbconvert_exporter": "python",
   "pygments_lexer": "ipython3",
   "version": "3.9.13"
  },
  "orig_nbformat": 4,
  "vscode": {
   "interpreter": {
    "hash": "46d4d6e35a705a453addec98352089b1c875d6193677971858623155cb10eb88"
   }
  }
 },
 "nbformat": 4,
 "nbformat_minor": 2
}
